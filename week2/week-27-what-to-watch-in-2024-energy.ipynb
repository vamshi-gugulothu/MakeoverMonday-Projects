{
 "cells": [
  {
   "cell_type": "code",
   "execution_count": 6,
   "id": "d8906f52-1bc8-488f-a067-bfafa88095e8",
   "metadata": {},
   "outputs": [],
   "source": [
    "import pandas as pd\n",
    "import seaborn as sns\n",
    "import matplotlib.pyplot as plt\n",
    "import plotly.graph_objects as go\n",
    "import plotly.express as px"
   ]
  },
  {
   "cell_type": "code",
   "execution_count": 9,
   "id": "3d8c3698-1bfb-414b-bb61-4951daf5e613",
   "metadata": {},
   "outputs": [],
   "source": [
    "data_for_map_df = pd.read_excel('https://query.data.world/s/htjrn2juzru4lkbbx2tfs3zgxlo4bm?dws=00000',sheet_name = 0)\n",
    "data_line_chart_df = pd.read_excel('https://query.data.world/s/htjrn2juzru4lkbbx2tfs3zgxlo4bm?dws=00000',sheet_name=1)"
   ]
  },
  {
   "cell_type": "code",
   "execution_count": null,
   "id": "31e5237e-aee3-42c5-a745-724ff8916f9a",
   "metadata": {},
   "outputs": [],
   "source": []
  }
 ],
 "metadata": {
  "kernelspec": {
   "display_name": "Python 3 (ipykernel)",
   "language": "python",
   "name": "python3"
  },
  "language_info": {
   "codemirror_mode": {
    "name": "ipython",
    "version": 3
   },
   "file_extension": ".py",
   "mimetype": "text/x-python",
   "name": "python",
   "nbconvert_exporter": "python",
   "pygments_lexer": "ipython3",
   "version": "3.12.4"
  }
 },
 "nbformat": 4,
 "nbformat_minor": 5
}
